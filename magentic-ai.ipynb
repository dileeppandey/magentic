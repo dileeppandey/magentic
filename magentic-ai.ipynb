{
 "cells": [
  {
   "cell_type": "code",
   "execution_count": 0,
   "metadata": {
    "application/vnd.databricks.v1+cell": {
     "cellMetadata": {
      "byteLimit": 2048000,
      "rowLimit": 10000
     },
     "inputWidgets": {},
     "nuid": "5b2007a6-8e0e-4e2d-abfa-eb76c08000f1",
     "showTitle": false,
     "tableResultSettingsMap": {},
     "title": ""
    }
   },
   "outputs": [
    {
     "output_type": "stream",
     "name": "stdout",
     "output_type": "stream",
     "text": [
      "\u001B[43mNote: you may need to restart the kernel using %restart_python or dbutils.library.restartPython() to use updated packages.\u001B[0m\n"
     ]
    }
   ],
   "source": [
    "\n",
    "%pip install -qqqq langchain-mcp-adapters mcp databricks-langchain langgraph langchain mlflow python-dotenv pydantic databricks-agents unitycatalog-langchain[databricks] uv\n",
    "%restart_python"
   ]
  },
  {
   "cell_type": "code",
   "execution_count": 0,
   "metadata": {
    "application/vnd.databricks.v1+cell": {
     "cellMetadata": {
      "byteLimit": 2048000,
      "rowLimit": 10000
     },
     "inputWidgets": {},
     "nuid": "c86ba37a-f710-49c2-b249-797476d29e34",
     "showTitle": false,
     "tableResultSettingsMap": {},
     "title": ""
    }
   },
   "outputs": [],
   "source": [
    "from key import *"
   ]
  },
  {
   "cell_type": "code",
   "execution_count": 0,
   "metadata": {
    "application/vnd.databricks.v1+cell": {
     "cellMetadata": {
      "byteLimit": 2048000,
      "rowLimit": 10000
     },
     "inputWidgets": {},
     "nuid": "1376cf98-334b-456c-8c4f-3589f51e5a67",
     "showTitle": false,
     "tableResultSettingsMap": {},
     "title": ""
    }
   },
   "outputs": [],
   "source": [
    "from langchain_mcp_adapters.client import MultiServerMCPClient\n",
    "from langgraph.prebuilt import create_react_agent\n",
    "from databricks_langchain import ChatDatabricks\n",
    "from databricks.sdk import WorkspaceClient\n",
    "import mlflow\n",
    "\n",
    "import os\n",
    "\n",
    "from dotenv import load_dotenv\n",
    "\n",
    "mlflow.langchain.autolog()\n",
    "\n",
    "load_dotenv()\n",
    "\n",
    "w = WorkspaceClient()\n",
    "\n",
    "os.environ[\"DATABRICKS_HOST\"] = w.config.host\n",
    "os.environ[\"DATABRICKS_TOKEN\"] = w.tokens.create(comment=\"for model serving\", lifetime_seconds=1200).token_value\n",
    "\n",
    "llm = ChatDatabricks(endpoint=\"databricks-meta-llama-3-3-70b-instruct\")\n",
    "\n",
    "\n",
    "client = MultiServerMCPClient({\n",
    "    \"nimble\": {\n",
    "        \"url\": \"https://mcp.nimbleway.com/sse\",\n",
    "        \"transport\": \"sse\",\n",
    "        \"headers\": {\n",
    "            \"Authorization\": f\"Bearer {NIMBLE_KEY}\"\n",
    "        }\n",
    "    }\n",
    "})\n",
    "\n",
    "tools = await client.get_tools()\n",
    "# flight_agent = create_react_agent(llm, tools, prompt=\"\"\"\n",
    "#         You are a flight agent. You are responsible for finding the best flights for the accessible or disable person. Analyze the user's requirements and the tool response and return a few of the best flight information.\n",
    "#     \"\"\")"
   ]
  },
  {
   "cell_type": "code",
   "execution_count": 0,
   "metadata": {
    "application/vnd.databricks.v1+cell": {
     "cellMetadata": {
      "byteLimit": 2048000,
      "rowLimit": 10000
     },
     "inputWidgets": {},
     "nuid": "a5cbf08c-0773-4da9-87d2-c7566a11d242",
     "showTitle": false,
     "tableResultSettingsMap": {},
     "title": ""
    }
   },
   "outputs": [],
   "source": [
    "flight_agent_prompt =  \"\"\"You are a specialized flight booking assistant for travelers with accessibility needs.\n",
    "Your goals:\n",
    "- Always recommend **non-stop round-trip flights**.\n",
    "- Include **flight numbers, airline names, departure/arrival times, and airports**.\n",
    "- Include **multiple cabin options** (Economy, Premium Economy, Business) with costs and accessibility benefits.\n",
    "- Provide details on **wheelchair boarding assistance**, **pre-boarding**, and **in-flight services for accessible travelers**.\n",
    "- Mention **total cost breakdown** (ticket + taxes + fees).\n",
    "- Prioritize **morning departures**, **non-stop routes**, and major carriers.\n",
    "Example output:\n",
    "- American Airlines Flight 234: Departs BOS at 8:00 AM, arrives SAN at 11:35 AM. Wheelchair assistance available, priority boarding included. Economy: $525, Premium: $745.\n",
    "ALWAYS USE TOOLS. DO NOT RESPOND DIRECTLY. Give Detailed output. Do not skip anything\n",
    "    \"\"\"\n",
    "flight_agent = create_react_agent(llm, tools, prompt=flight_agent_prompt)\n",
    "\n",
    "lodging_agent_prompt =  \"\"\"You are a specialized hotel search assistant for travelers with disabilities.\n",
    "Your goals:\n",
    "- Always return **2–3 hotels** with full accessibility.\n",
    "- Include **room types** (roll-in shower, grab bars, lowered counters, visual fire alarms).\n",
    "- Include **hotel location** (how far from major landmarks or airports).\n",
    "- Include **amenities**: elevators, Braille signage, assistive listening devices, accessible pool, ADA shuttles.\n",
    "- Show **nightly rate**, **total cost**, **star rating**, and **guest accessibility reviews**.\n",
    "- Emphasize best pick based on **proximity**, **cost**, and **accessibility score**.\n",
    "Example output:\n",
    "- Hyatt Regency San Diego: 4-star hotel, 10 min from airport, $225/night. Features include roll-in showers, elevators, hearing aids, and ADA shuttles.\n",
    "ALWAYS USE TOOLS. DO NOT RESPOND DIRECTLY.  Give Detailed output. Do no skip anything.\n",
    "    \"\"\"\n",
    "lodging_agent = create_react_agent(llm, tools, prompt=lodging_agent_prompt)"
   ]
  },
  {
   "cell_type": "code",
   "execution_count": 0,
   "metadata": {
    "application/vnd.databricks.v1+cell": {
     "cellMetadata": {
      "byteLimit": 2048000,
      "rowLimit": 10000
     },
     "inputWidgets": {},
     "nuid": "5fd453d6-b1f7-4616-bedc-dca7d5deebd4",
     "showTitle": false,
     "tableResultSettingsMap": {},
     "title": ""
    }
   },
   "outputs": [],
   "source": [
    "import functools\n",
    "import os\n",
    "from typing import Any, Generator, Literal, Optional\n",
    "\n",
    "import mlflow\n",
    "from databricks.sdk import WorkspaceClient\n",
    "from databricks_langchain import (\n",
    "    ChatDatabricks,\n",
    "    UCFunctionToolkit,\n",
    ")\n",
    "from databricks_langchain.genie import GenieAgent\n",
    "from langchain_core.runnables import RunnableLambda\n",
    "from langgraph.graph import END, StateGraph\n",
    "from langgraph.graph.state import CompiledStateGraph\n",
    "from langgraph.prebuilt import create_react_agent\n",
    "from mlflow.langchain.chat_agent_langgraph import ChatAgentState\n",
    "from mlflow.pyfunc import ChatAgent\n",
    "from mlflow.types.agent import (\n",
    "    ChatAgentChunk,\n",
    "    ChatAgentMessage,\n",
    "    ChatAgentResponse,\n",
    "    ChatContext,\n",
    ")\n",
    "from pydantic import BaseModel"
   ]
  },
  {
   "cell_type": "code",
   "execution_count": 0,
   "metadata": {
    "application/vnd.databricks.v1+cell": {
     "cellMetadata": {
      "byteLimit": 2048000,
      "rowLimit": 10000
     },
     "collapsed": true,
     "inputWidgets": {},
     "nuid": "9fbc5e95-f114-4eeb-aa97-2edb04d4e645",
     "showTitle": false,
     "tableResultSettingsMap": {},
     "title": ""
    }
   },
   "outputs": [],
   "source": [
    "\n",
    "# LLM_ENDPOINT_NAME = \"databricks-meta-llama-3-3-70b-instruct\"\n",
    "# llm = ChatDatabricks(endpoint=LLM_ENDPOINT_NAME)\n",
    "\n",
    "# flight_agent_description = (\n",
    "#     \"THe flight agent will fetch all flight information for you. Always ask for infromation considering asking person is either accessible or disable person. DO NOT USE DEEP SEARCH\",\n",
    "# )\n",
    "# lodging_agent_description = (\n",
    "#     \"THe flight agent will fetch all lodging or hotel information for you. Always ask for infromation considering asking person is either accessible or disable person. DO NOT USE DEEP SEARCH\",\n",
    "# )\n",
    "# # TODO update the max number of iterations between supervisor and worker nodes\n",
    "# # before returning to the user\n",
    "# MAX_ITERATIONS = 3\n",
    "\n",
    "# worker_descriptions = {\n",
    "#     \"Flight-Agent\": flight_agent_description,\n",
    "#     \"Lodging-Agent\": lodging_agent_description,\n",
    "# }\n",
    "\n",
    "# formatted_descriptions = \"\\n\".join(\n",
    "#     f\"- {name}: {desc}\" for name, desc in worker_descriptions.items()\n",
    "# )\n",
    "\n",
    "# system_prompt = f\"\"\"You are a Supervisor AI Agent responsible for routing user travel-related requests to the correct specialized sub-agent. There are two sub-agents you can choose from:\n",
    "# Flying Agent – Handles:\n",
    "# Booking flights\n",
    "# Checking flight prices or schedules\n",
    "# Finding best airfare deals\n",
    "# Flight-related travel questions\n",
    "# Hotel Agent – Handles:\n",
    "# Booking hotels\n",
    "# Checking hotel prices or availability\n",
    "# Finding accommodations\n",
    "# Hotel-related travel questions\n",
    "# Your job is to:\n",
    "# Interpret the user’s request.\n",
    "# Decide which agent (Flying Agent or Hotel Agent) is best suited to handle it.\n",
    "# If both agents might be needed, clearly split the request and send parts to the appropriate agents.\n",
    "# If the request is unclear or not relevant to either, ask the user for clarification.\n",
    "# Decide between routing between the following workers or ending the conversation if an answer is provided. DO NOT USE ANY DEEP SEARCH. \\n{formatted_descriptions}\"\"\"\n",
    "# options = [\"FINISH\"] + list(worker_descriptions.keys())\n",
    "# FINISH = {\"next_node\": \"FINISH\"}\n",
    "\n",
    "# def supervisor_agent(state):\n",
    "#     count = state.get(\"iteration_count\", 0) + 1\n",
    "#     if count > MAX_ITERATIONS:\n",
    "#         return FINISH\n",
    "    \n",
    "#     class nextNode(BaseModel):\n",
    "#         next_node: Literal[tuple(options)]\n",
    "\n",
    "#     preprocessor = RunnableLambda(\n",
    "#         lambda state: [{\"role\": \"system\", \"content\": system_prompt}] + state[\"messages\"]\n",
    "#     )\n",
    "#     supervisor_chain = preprocessor | llm.with_structured_output(nextNode)\n",
    "#     # supervisor_chain = preprocessor | llm | RunnableLambda(lambda resp: parse_next_node(resp.content))\n",
    "#     next_node = supervisor_chain.invoke(state).next_node\n",
    "#     # next_node = supervisor_chain.invoke(state)\n",
    "    \n",
    "#     # if routed back to the same node, exit the loop\n",
    "#     if state.get(\"next_node\") == next_node:\n",
    "#         return FINISH\n",
    "#     return {\n",
    "#         \"iteration_count\": count,\n",
    "#         \"next_node\": next_node\n",
    "#     }\n",
    "\n",
    "# #######################################\n",
    "# # Define our multiagent graph structure\n",
    "# #######################################\n",
    "\n",
    "\n",
    "# def agent_node(state, agent, name):\n",
    "#     result = agent.invoke(state)\n",
    "#     return {\n",
    "#         \"messages\": [\n",
    "#             {\n",
    "#                 \"role\": \"assistant\",\n",
    "#                 \"content\": result[\"messages\"][-1].content,\n",
    "#                 \"name\": name,\n",
    "#             }\n",
    "#         ]\n",
    "#     }\n",
    "\n",
    "\n",
    "# def final_answer(state):\n",
    "#     prompt = \"Using only the content in the messages, respond to the previous user question using the answer given by the other assistant messages.\"\n",
    "#     preprocessor = RunnableLambda(\n",
    "#         lambda state: state[\"messages\"] + [{\"role\": \"user\", \"content\": prompt}]\n",
    "#     )\n",
    "#     final_answer_chain = preprocessor | llm\n",
    "#     return {\"messages\": [final_answer_chain.invoke(state)]}\n",
    "\n",
    "\n",
    "# class AgentState(ChatAgentState):\n",
    "#     next_node: str\n",
    "#     iteration_count: int\n",
    "\n",
    "\n",
    "# code_node = functools.partial(agent_node, agent=flight_agent, name=\"Flight-Agent\")\n",
    "# genie_node = functools.partial(agent_node, agent=lodging_agent, name=\"Lodging-Agent\")\n",
    "\n",
    "# workflow = StateGraph(AgentState)\n",
    "# workflow.add_node(\"Flight-Agent\", flight_agent)\n",
    "# workflow.add_node(\"Lodging-Agent\", lodging_agent)\n",
    "# workflow.add_node(\"supervisor\", supervisor_agent)\n",
    "# workflow.add_node(\"final_answer\", final_answer)\n",
    "\n",
    "# workflow.set_entry_point(\"supervisor\")\n",
    "# # We want our workers to ALWAYS \"report back\" to the supervisor when done\n",
    "# for worker in worker_descriptions.keys():\n",
    "#     workflow.add_edge(worker, \"supervisor\")\n",
    "\n",
    "# # Let the supervisor decide which next node to go\n",
    "# workflow.add_conditional_edges(\n",
    "#     \"supervisor\",\n",
    "#     lambda x: x[\"next_node\"],\n",
    "#     {**{k: k for k in worker_descriptions.keys()}, \"FINISH\": \"final_answer\"},\n",
    "# )\n",
    "# workflow.add_edge(\"final_answer\", END)\n",
    "# multi_agent = workflow.compile()\n",
    "\n",
    "# ###################################\n",
    "# # Wrap our multi-agent in ChatAgent\n",
    "# ###################################\n",
    "\n",
    "\n",
    "# class LangGraphChatAgent(ChatAgent):\n",
    "#     def __init__(self, agent: CompiledStateGraph):\n",
    "#         self.agent = agent\n",
    "\n",
    "#     def predict(\n",
    "#         self,\n",
    "#         messages: list[ChatAgentMessage],\n",
    "#         context: Optional[ChatContext] = None,\n",
    "#         custom_inputs: Optional[dict[str, Any]] = None,\n",
    "#     ) -> ChatAgentResponse:\n",
    "#         request = {\n",
    "#             \"messages\": [m.model_dump_compat(exclude_none=True) for m in messages]\n",
    "#         }\n",
    "\n",
    "#         messages = []\n",
    "#         for event in self.agent.stream(request, stream_mode=\"updates\"):\n",
    "#             for node_data in event.values():\n",
    "#                 messages.extend(\n",
    "#                     ChatAgentMessage(**msg) for msg in node_data.get(\"messages\", [])\n",
    "#                 )\n",
    "#         return ChatAgentResponse(messages=messages)\n",
    "\n",
    "#     def predict_stream(\n",
    "#         self,\n",
    "#         messages: list[ChatAgentMessage],\n",
    "#         context: Optional[ChatContext] = None,\n",
    "#         custom_inputs: Optional[dict[str, Any]] = None,\n",
    "#     ) -> Generator[ChatAgentChunk, None, None]:\n",
    "#         request = {\n",
    "#             \"messages\": [m.model_dump_compat(exclude_none=True) for m in messages]\n",
    "#         }\n",
    "#         for event in self.agent.stream(request, stream_mode=\"updates\"):\n",
    "#             for node_data in event.values():\n",
    "#                 yield from (\n",
    "#                     ChatAgentChunk(**{\"delta\": msg})\n",
    "#                     for msg in node_data.get(\"messages\", [])\n",
    "#                 )\n",
    "\n",
    "\n",
    "# # Create the agent object, and specify it as the agent object to use when\n",
    "# # loading the agent back for inference via mlflow.models.set_model()\n",
    "# mlflow.langchain.autolog()\n",
    "# AGENT = LangGraphChatAgent(multi_agent)\n",
    "# mlflow.models.set_model(AGENT)"
   ]
  },
  {
   "cell_type": "code",
   "execution_count": 0,
   "metadata": {
    "application/vnd.databricks.v1+cell": {
     "cellMetadata": {
      "byteLimit": 2048000,
      "rowLimit": 10000
     },
     "inputWidgets": {},
     "nuid": "a02d4ad9-10e1-482c-a444-3114847f99db",
     "showTitle": false,
     "tableResultSettingsMap": {},
     "title": ""
    }
   },
   "outputs": [],
   "source": [
    "def parse_next_node(response: str) -> str:\n",
    "    try:\n",
    "        data = json.loads(response)\n",
    "        return data.get(\"next_node\", \"FINISH\")\n",
    "    except Exception:\n",
    "        return \"FINISH\""
   ]
  },
  {
   "cell_type": "code",
   "execution_count": 0,
   "metadata": {
    "application/vnd.databricks.v1+cell": {
     "cellMetadata": {
      "byteLimit": 2048000,
      "rowLimit": 10000
     },
     "inputWidgets": {},
     "nuid": "6a354d1c-8b17-46dd-a8c3-bace4785269e",
     "showTitle": false,
     "tableResultSettingsMap": {},
     "title": ""
    }
   },
   "outputs": [],
   "source": [
    "\n",
    "LLM_ENDPOINT_NAME = \"databricks-meta-llama-3-3-70b-instruct\"\n",
    "llm = ChatDatabricks(endpoint=LLM_ENDPOINT_NAME)\n",
    "\n",
    "flight_agent_description = (\n",
    "    \"THe flight agent will fetch all flight information for you. Always ask for infromation considering asking person is either accessible or disable person.\",\n",
    ")\n",
    "lodging_agent_description = (\n",
    "    \"THe flight agent will fetch all lodging or hotel information for you. Always ask for infromation considering asking person is either accessible or disable person.\",\n",
    ")\n",
    "# TODO update the max number of iterations between supervisor and worker nodes\n",
    "# before returning to the user\n",
    "MAX_ITERATIONS = 6\n",
    "\n",
    "worker_descriptions = {\n",
    "    \"Flight-Agent\": flight_agent_description,\n",
    "    \"Lodging-Agent\": lodging_agent_description,\n",
    "}\n",
    "\n",
    "formatted_descriptions = \"\\n\".join(\n",
    "    f\"- {name}: {desc}\" for name, desc in worker_descriptions.items()\n",
    ")\n",
    "\n",
    "system_prompt = f\"\"\"You are a Supervisor AI Agent responsible for routing user travel-related requests to the correct specialized sub-agent, with a primary focus on accessibility.\n",
    "Always assume that the person making the request may have a disability or require accessible accommodations. Your top priority is to ensure accessibility-first results, whether related to flights, hotels, or travel in general.\n",
    "You can choose from two sub-agents:\n",
    "Flying Agent – Handles:\n",
    "- Booking flights\n",
    "- Checking flight prices or schedules\n",
    "- Finding best airfare deals\n",
    "- Flight-related travel questions\n",
    "Hotel Agent – Handles:\n",
    "- Booking hotels\n",
    "- Checking hotel prices or availability\n",
    "- Finding accommodations\n",
    "- Hotel-related travel questions\n",
    "Your job is to:\n",
    "- Interpret the user’s request.\n",
    "- Decide which agent (Flying Agent or Hotel Agent) is best suited to handle it.\n",
    "- If both agents are needed, clearly split the request and send parts to the appropriate agents.\n",
    "- Always prioritize the most accessible options (wheelchair-friendly, visual/auditory aids, proximity to elevators, etc.).\n",
    "- If the request is unclear or not relevant to either, ask the user for clarification.\n",
    "Decide between routing between the following workers or ending the conversation if an answer is provided. \\n{formatted_descriptions}\"\"\"\n",
    "options = [\"FINISH\"] + list(worker_descriptions.keys())\n",
    "FINISH = {\"next_node\": \"FINISH\"}\n",
    "\n",
    "def supervisor_agent(state):\n",
    "    count = state.get(\"iteration_count\", 0) + 1\n",
    "    if count > MAX_ITERATIONS:\n",
    "        return FINISH\n",
    "    user_msg = next((m[\"content\"] for m in state[\"messages\"] if m[\"role\"] == \"user\"), \"\")\n",
    "    if len(user_msg.strip().split()) < 3:\n",
    "        return {\n",
    "            \"next_node\": \"FINISH\",\n",
    "            \"messages\": [\n",
    "                {\n",
    "                    \"role\": \"assistant\",\n",
    "                    \"content\": \"Welcome! I can help with booking **accessible flights and hotels**.\\nPlease tell me:\\n- Your travel dates\\n- Destination\\n- Any accessibility needs (e.g., wheelchair assistance).\"\n",
    "                }\n",
    "            ]\n",
    "        }\n",
    "    preprocessor = RunnableLambda(\n",
    "        lambda state: [{\"role\": \"system\", \"content\": system_prompt}] + state[\"messages\"]\n",
    "    )\n",
    "    supervisor_chain = preprocessor | llm | RunnableLambda(\n",
    "        lambda msg: parse_next_node(\n",
    "            msg if isinstance(msg, str)\n",
    "            else msg.content if hasattr(msg, \"content\")\n",
    "            else msg[0].content if isinstance(msg, list)\n",
    "            else \"\"\n",
    "        )\n",
    "    )\n",
    "    next_node = supervisor_chain.invoke(state)\n",
    "    if state.get(\"next_node\") == next_node:\n",
    "        return FINISH\n",
    "    return {\n",
    "        \"iteration_count\": count,\n",
    "        \"next_node\": next_node\n",
    "    }\n",
    "\n",
    "#######################################\n",
    "# Define our multiagent graph structure\n",
    "#######################################\n",
    "\n",
    "\n",
    "def agent_node(state, agent, name):\n",
    "    static_prompts = {\n",
    "        \"Flight-Agent\": flight_agent_prompt,\n",
    "        \"Lodging-Agent\": lodging_agent_prompt,\n",
    "    }\n",
    "    updated_messages = [\n",
    "        {\"role\": \"system\", \"content\": static_prompts[name]}\n",
    "    ] + state[\"messages\"]\n",
    "    updated_messages = [{\"role\": \"system\", \"content\": static_prompts[name]}] + state[\"messages\"]\n",
    "    result = agent.invoke({\"messages\": updated_messages})\n",
    "    return {\n",
    "        \"messages\": [\n",
    "            {\n",
    "                \"role\": \"assistant\",\n",
    "                \"content\": result[\"messages\"][-1].content,\n",
    "                \"name\": name,\n",
    "            }\n",
    "        ]\n",
    "    }\n",
    "\n",
    "\n",
    "def final_answer(state):\n",
    "    prompt = (\n",
    "    \"Summarize the travel plan based on the assistant messages. \"\n",
    "    \"Include full details: flight times, prices, assistance available, hotel amenities, accessibility features, and proximity to landmarks. \"\n",
    "    \"Use bullet points or sections for readability. Avoid generic tips.\"\n",
    ")\n",
    "    preprocessor = RunnableLambda(\n",
    "        lambda state: state[\"messages\"] + [{\"role\": \"user\", \"content\": prompt}]\n",
    "    )\n",
    "    final_answer_chain = preprocessor | llm\n",
    "    return {\"messages\": [final_answer_chain.invoke(state)]}\n",
    "\n",
    "\n",
    "class AgentState(ChatAgentState):\n",
    "    next_node: str\n",
    "    iteration_count: int\n",
    "\n",
    "\n",
    "code_node = functools.partial(agent_node, agent=flight_agent, name=\"Flight-Agent\")\n",
    "genie_node = functools.partial(agent_node, agent=lodging_agent, name=\"Lodging-Agent\")\n",
    "\n",
    "workflow = StateGraph(AgentState)\n",
    "workflow.add_node(\"Flight-Agent\", flight_agent)\n",
    "workflow.add_node(\"Lodging-Agent\", lodging_agent)\n",
    "workflow.add_node(\"supervisor\", supervisor_agent)\n",
    "workflow.add_node(\"final_answer\", final_answer)\n",
    "\n",
    "workflow.set_entry_point(\"supervisor\")\n",
    "# We want our workers to ALWAYS \"report back\" to the supervisor when done\n",
    "for worker in worker_descriptions.keys():\n",
    "    workflow.add_edge(worker, \"supervisor\")\n",
    "\n",
    "# Let the supervisor decide which next node to go\n",
    "workflow.add_conditional_edges(\n",
    "    \"supervisor\",\n",
    "    lambda x: x[\"next_node\"],\n",
    "    {**{k: k for k in worker_descriptions.keys()}, \"FINISH\": \"final_answer\"},\n",
    ")\n",
    "workflow.add_edge(\"final_answer\", END)\n",
    "multi_agent = workflow.compile()\n",
    "\n",
    "###################################\n",
    "# Wrap our multi-agent in ChatAgent\n",
    "###################################\n",
    "\n",
    "\n",
    "class LangGraphChatAgent(ChatAgent):\n",
    "    def __init__(self, agent: CompiledStateGraph):\n",
    "        self.agent = agent\n",
    "\n",
    "    def predict(\n",
    "        self,\n",
    "        messages: list[ChatAgentMessage],\n",
    "        context: Optional[ChatContext] = None,\n",
    "        custom_inputs: Optional[dict[str, Any]] = None,\n",
    "    ) -> ChatAgentResponse:\n",
    "        request = {\n",
    "            \"messages\": [m.model_dump_compat(exclude_none=True) for m in messages]\n",
    "        }\n",
    "\n",
    "        messages = []\n",
    "        for event in self.agent.stream(request, stream_mode=\"updates\"):\n",
    "            for node_data in event.values():\n",
    "                messages.extend(\n",
    "                    ChatAgentMessage(**msg) for msg in node_data.get(\"messages\", [])\n",
    "                )\n",
    "        return ChatAgentResponse(messages=messages)\n",
    "\n",
    "    def predict_stream(\n",
    "        self,\n",
    "        messages: list[ChatAgentMessage],\n",
    "        context: Optional[ChatContext] = None,\n",
    "        custom_inputs: Optional[dict[str, Any]] = None,\n",
    "    ) -> Generator[ChatAgentChunk, None, None]:\n",
    "        request = {\n",
    "            \"messages\": [m.model_dump_compat(exclude_none=True) for m in messages]\n",
    "        }\n",
    "        for event in self.agent.stream(request, stream_mode=\"updates\"):\n",
    "            for node_data in event.values():\n",
    "                yield from (\n",
    "                    ChatAgentChunk(**{\"delta\": msg})\n",
    "                    for msg in node_data.get(\"messages\", [])\n",
    "                )\n",
    "\n",
    "\n",
    "# Create the agent object, and specify it as the agent object to use when\n",
    "# loading the agent back for inference via mlflow.models.set_model()\n",
    "mlflow.langchain.autolog()\n",
    "AGENT = LangGraphChatAgent(multi_agent)\n",
    "mlflow.models.set_model(AGENT)"
   ]
  },
  {
   "cell_type": "code",
   "execution_count": 0,
   "metadata": {
    "application/vnd.databricks.v1+cell": {
     "cellMetadata": {
      "byteLimit": 2048000,
      "rowLimit": 10000
     },
     "inputWidgets": {},
     "nuid": "e05074aa-0179-451c-8e2a-d3ba6f61b0e3",
     "showTitle": false,
     "tableResultSettingsMap": {},
     "title": ""
    }
   },
   "outputs": [
    {
     "output_type": "execute_result",
     "data": {
      "image/png": "[encoded data removed]",
      "text/plain": [
       "<langgraph.graph.state.CompiledStateGraph object at 0x7ff0a3d0af90>"
      ]
     },
     "execution_count": 24,
     "metadata": {},
     "output_type": "execute_result"
    }
   ],
   "source": [
    "multi_agent"
   ]
  },
  {
   "cell_type": "code",
   "execution_count": 0,
   "metadata": {
    "application/vnd.databricks.v1+cell": {
     "cellMetadata": {
      "byteLimit": 2048000,
      "rowLimit": 10000
     },
     "inputWidgets": {},
     "nuid": "d851ac56-6bc8-46a3-ba08-5b113472d804",
     "showTitle": false,
     "tableResultSettingsMap": {},
     "title": ""
    }
   },
   "outputs": [
    {
     "output_type": "display_data",
     "data": {
      "application/databricks.mlflow.trace": "\"tr-717db299b12b4a38810dde9c4853ba08\"",
      "text/plain": [
       "Trace(request_id=tr-717db299b12b4a38810dde9c4853ba08)"
      ]
     },
     "metadata": {},
     "output_type": "display_data"
    }
   ],
   "source": [
    "input_example = {\n",
    "    \"messages\": [\n",
    "        {\n",
    "            \"role\": \"user\",\n",
    "            \"content\": \"\"\"I am accessible person and I'm planning a trip from Boston to San Diego from August 12th to August 20th. Can you help with both the flight and hotel parts of this trip?\"\"\"\n",
    "        }\n",
    "    ]\n",
    "}\n",
    "resp = AGENT.predict(input_example)"
   ]
  },
  {
   "cell_type": "code",
   "execution_count": 0,
   "metadata": {
    "application/vnd.databricks.v1+cell": {
     "cellMetadata": {
      "byteLimit": 2048000,
      "rowLimit": 10000
     },
     "inputWidgets": {},
     "nuid": "c54ca4a3-c2ee-4102-8bba-524c7700e39b",
     "showTitle": false,
     "tableResultSettingsMap": {},
     "title": ""
    }
   },
   "outputs": [
    {
     "output_type": "stream",
     "name": "stdout",
     "output_type": "stream",
     "text": [
      "Based on your request, I've planned a trip from Boston to San Diego from August 12th to August 20th. Here are the details:\n\n### Flight Information\n- **Departure**: Boston Logan International Airport (BOS) on August 12th\n- **Arrival**: San Diego International Airport (SAN) on August 12th\n- **Return**: San Diego International Airport (SAN) on August 20th\n- **Arrival Back to Boston**: Boston Logan International Airport (BOS) on August 20th\n- **Flight Duration**: Approximately 5 hours from BOS to SAN\n- **Airline**: American Airlines, which offers wheelchair assistance, priority boarding for passengers with disabilities, and accessible seating.\n- **Flight Times**:\n  - Departure from BOS: 8:00 AM EST\n  - Arrival at SAN: 11:05 AM PST\n  - Return from SAN: 2:00 PM PST\n  - Arrival back at BOS: 9:05 PM EST\n- **Prices**: Round-trip economy tickets start at $450. However, prices may vary based on the time of booking and availability.\n\n### Hotel Information\n- **Hotel Name**: Hotel Indigo San Diego Gaslamp Quarter\n- **Location**: 509 9th Avenue, San Diego, CA 92101\n- **Accessibility Features**:\n  - Wheelchair accessible rooms with roll-in showers\n  - Grab bars in the bathroom\n  - Lowered sink and counter in the bathroom\n  - Accessible parking and entrance\n  - Braille signage and audio signals for elevators\n- **Amenities**:\n  - Free WiFi\n  - Fitness center\n  - Restaurant and bar on site\n  - Pet-friendly\n  - Concierge services\n- **Proximity to Landmarks**:\n  - 0.5 miles from the San Diego Convention Center\n  - 0.6 miles from Petco Park\n  - 1 mile from USS Midway Museum\n  - 1.2 miles from Balboa Park\n- **Prices**: Nightly rates start at $180, but can vary depending on the day and how far in advance you book.\n\n### Additional Assistance\n- **Airport Assistance**: Both BOS and SAN airports offer wheelchair assistance. It's recommended to request this service at least 24 hours in advance.\n- **Hotel Assistance**: The Hotel Indigo San Diego Gaslamp Quarter offers assistance with luggage and check-in for guests with disabilities. They also have a 24-hour front desk.\n\n### Booking\nTo book your flight and hotel, you can visit the American Airlines website for flights and the Hotel Indigo website for accommodations. Be sure to select the accessibility options you need during the booking process. Alternatively, you can call their customer service numbers to book over the phone and ensure all your accessibility needs are met.\n\n### Contact Information\n- **American Airlines**: 1-800-433-7300\n- **Hotel Indigo San Diego Gaslamp Quarter**: 1-619-727-4000\n\nPlease confirm these details and book as soon as possible to ensure availability, especially during peak travel seasons.\n"
     ]
    }
   ],
   "source": [
    "print(resp.messages[-1].content)"
   ]
  },
  {
   "cell_type": "code",
   "execution_count": 0,
   "metadata": {
    "application/vnd.databricks.v1+cell": {
     "cellMetadata": {},
     "inputWidgets": {},
     "nuid": "64092933-8355-44db-8476-de3d127c7f1c",
     "showTitle": false,
     "tableResultSettingsMap": {},
     "title": ""
    }
   },
   "outputs": [],
   "source": []
  }
 ],
 "metadata": {
  "application/vnd.databricks.v1+notebook": {
   "computePreferences": null,
   "dashboards": [],
   "environmentMetadata": {
    "base_environment": "",
    "environment_version": "2"
   },
   "inputWidgetPreferences": null,
   "language": "python",
   "notebookMetadata": {
    "pythonIndentUnit": 4
   },
   "notebookName": "sup2",
   "widgets": {}
  },
  "language_info": {
   "name": "python"
  }
 },
 "nbformat": 4,
 "nbformat_minor": 0
}